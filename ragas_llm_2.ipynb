{
 "cells": [
  {
   "cell_type": "code",
   "execution_count": 15,
   "metadata": {},
   "outputs": [],
   "source": [
    "import pandas as pd\n",
    "from datasets import Dataset, Features, Sequence, Value\n",
    "from langchain_core.language_models import BaseLanguageModel\n",
    "from langchain_core.embeddings import Embeddings\n",
    "from langchain_community.llms import Ollama\n",
    "from langchain_community.embeddings import HuggingFaceEmbeddings\n",
    "from ragas import evaluate\n",
    "from ragas.metrics import faithfulness, answer_relevancy, answer_correctness\n",
    "from langchain.chains import LLMChain\n",
    "from langchain.prompts import PromptTemplate\n",
    "\n",
    "# Initialize Ollama LLM and Embeddings\n",
    "llm_ans: BaseLanguageModel = Ollama(model=\"mistral\", temperature = 0)\n",
    "llm_eva: BaseLanguageModel = Ollama(model=\"llama3\", temperature = 0)\n",
    "embeddings: Embeddings = HuggingFaceEmbeddings(model_name=\"all-MiniLM-L6-v2\")"
   ]
  },
  {
   "cell_type": "code",
   "execution_count": 16,
   "metadata": {},
   "outputs": [],
   "source": [
    "# Load the dataset from a local CSV file\n",
    "df = pd.read_csv('halubench.csv')\n",
    "\n",
    "# Ensure the dataset has the required columns: 'question', 'contexts', 'ground_truth'\n",
    "required_columns = ['question', 'contexts', 'ground_truth']\n",
    "if not all(col in df.columns for col in required_columns):\n",
    "    raise ValueError(f\"The dataset must contain these columns: {required_columns}\")\n",
    "\n",
    "# Convert contexts column to a list of strings if it's not already\n",
    "df['contexts'] = df['contexts'].apply(lambda x: x if isinstance(x, list) else [x])"
   ]
  },
  {
   "cell_type": "code",
   "execution_count": 17,
   "metadata": {},
   "outputs": [],
   "source": [
    "# Function to generate answer using LLaMA 3\n",
    "def generate_answer(question, context):\n",
    "    prompt = PromptTemplate(\n",
    "        input_variables=[\"question\", \"context\"],\n",
    "        template=\"Context: {context}\\n\\nQuestion: {question}\\n\\nAnswer:\"\n",
    "    )\n",
    "    chain = LLMChain(llm=llm_ans, prompt=prompt)\n",
    "    return chain.run({\"question\": question, \"context\": context})"
   ]
  },
  {
   "cell_type": "code",
   "execution_count": 18,
   "metadata": {},
   "outputs": [],
   "source": [
    "# Generate answers using LLaMA 3\n",
    "df['answer'] = df.apply(lambda row: generate_answer(row['question'], row['contexts']), axis=1)\n"
   ]
  },
  {
   "cell_type": "code",
   "execution_count": 19,
   "metadata": {},
   "outputs": [],
   "source": [
    "# Select required columns for the Hugging Face dataset\n",
    "df_hf = df[required_columns + ['answer']]\n",
    "\n",
    "# Define the schema for the Hugging Face dataset\n",
    "features = Features({\n",
    "    'question': Value('string'),\n",
    "    'contexts': Sequence(Value('string')),\n",
    "    'ground_truth': Value('string'),\n",
    "    'answer': Value('string')\n",
    "})\n"
   ]
  },
  {
   "cell_type": "code",
   "execution_count": 20,
   "metadata": {},
   "outputs": [
    {
     "data": {
      "application/vnd.jupyter.widget-view+json": {
       "model_id": "db9d3100adb3477ea5796cc1b5ff2793",
       "version_major": 2,
       "version_minor": 0
      },
      "text/plain": [
       "Evaluating:   0%|          | 0/180 [00:00<?, ?it/s]"
      ]
     },
     "metadata": {},
     "output_type": "display_data"
    },
    {
     "name": "stderr",
     "output_type": "stream",
     "text": [
      "Failed to parse output. Returning None.\n",
      "Exception raised in Job[172]: TimeoutError()\n",
      "Failed to parse output. Returning None.\n",
      "Exception raised in Job[140]: TimeoutError()\n",
      "Failed to parse output. Returning None.\n",
      "Exception raised in Job[175]: TimeoutError()\n",
      "Exception raised in Job[74]: TimeoutError()\n",
      "Exception raised in Job[142]: TimeoutError()\n",
      "Exception raised in Job[25]: TimeoutError()\n",
      "Exception raised in Job[47]: TimeoutError()\n",
      "Exception raised in Job[176]: TimeoutError()\n",
      "Exception raised in Job[143]: TimeoutError()\n",
      "Exception raised in Job[34]: TimeoutError()\n",
      "Failed to parse output. Returning None.\n",
      "Exception raised in Job[110]: TimeoutError()\n",
      "Exception raised in Job[178]: TimeoutError()\n",
      "Exception raised in Job[179]: TimeoutError()\n",
      "Exception raised in Job[113]: TimeoutError()\n",
      "Exception raised in Job[41]: TimeoutError()\n",
      "Exception raised in Job[14]: TimeoutError()\n",
      "Exception raised in Job[13]: TimeoutError()\n",
      "Exception raised in Job[82]: TimeoutError()\n",
      "Exception raised in Job[116]: TimeoutError()\n",
      "Exception raised in Job[150]: TimeoutError()\n",
      "Exception raised in Job[5]: TimeoutError()\n",
      "Exception raised in Job[83]: TimeoutError()\n",
      "Failed to parse output. Returning None.\n",
      "Exception raised in Job[151]: TimeoutError()\n",
      "Exception raised in Job[38]: TimeoutError()\n",
      "Exception raised in Job[118]: TimeoutError()\n",
      "Failed to parse output. Returning None.\n",
      "Exception raised in Job[152]: TimeoutError()\n",
      "Exception raised in Job[85]: TimeoutError()\n",
      "Exception raised in Job[153]: TimeoutError()\n",
      "Exception raised in Job[86]: TimeoutError()\n",
      "Exception raised in Job[154]: TimeoutError()\n",
      "Failed to parse output. Returning None.\n",
      "Failed to parse output. Returning None.\n",
      "Exception raised in Job[89]: TimeoutError()\n",
      "Exception raised in Job[157]: TimeoutError()\n",
      "Exception raised in Job[32]: TimeoutError()\n",
      "Exception raised in Job[125]: TimeoutError()\n",
      "Exception raised in Job[159]: TimeoutError()\n",
      "Exception raised in Job[92]: TimeoutError()\n",
      "Exception raised in Job[160]: TimeoutError()\n",
      "Exception raised in Job[161]: TimeoutError()\n",
      "Exception raised in Job[59]: TimeoutError()\n",
      "Failed to parse output. Returning None.\n",
      "Failed to parse output. Returning None.\n",
      "Exception raised in Job[163]: TimeoutError()\n",
      "Exception raised in Job[61]: TimeoutError()\n",
      "Failed to parse output. Returning None.\n",
      "Failed to parse output. Returning None.\n",
      "Exception raised in Job[166]: TimeoutError()\n",
      "Failed to parse output. Returning None.\n"
     ]
    }
   ],
   "source": [
    "# Convert the pandas DataFrame to a Hugging Face Dataset with the specified schema\n",
    "dataset = Dataset.from_pandas(df_hf, features=features)\n",
    "\n",
    "# Evaluate using Ragas\n",
    "results = evaluate(\n",
    "    dataset=dataset,\n",
    "    metrics=[faithfulness, answer_relevancy, answer_correctness],\n",
    "    llm=llm_eva,\n",
    "    embeddings=embeddings\n",
    ")\n"
   ]
  },
  {
   "cell_type": "code",
   "execution_count": 23,
   "metadata": {},
   "outputs": [
    {
     "name": "stdout",
     "output_type": "stream",
     "text": [
      "{'faithfulness': 0.8499, 'answer_relevancy': 0.6872, 'answer_correctness': 0.5652}\n"
     ]
    }
   ],
   "source": [
    "# Print the results\n",
    "print(results)\n",
    "\n",
    "# Save the results to a CSV file\n",
    "results.to_pandas().to_csv('halubench_results.csv', index=False)\n"
   ]
  },
  {
   "cell_type": "code",
   "execution_count": 22,
   "metadata": {},
   "outputs": [
    {
     "data": {
      "text/html": [
       "<div>\n",
       "<style scoped>\n",
       "    .dataframe tbody tr th:only-of-type {\n",
       "        vertical-align: middle;\n",
       "    }\n",
       "\n",
       "    .dataframe tbody tr th {\n",
       "        vertical-align: top;\n",
       "    }\n",
       "\n",
       "    .dataframe thead th {\n",
       "        text-align: right;\n",
       "    }\n",
       "</style>\n",
       "<table border=\"1\" class=\"dataframe\">\n",
       "  <thead>\n",
       "    <tr style=\"text-align: right;\">\n",
       "      <th></th>\n",
       "      <th>Unnamed: 0</th>\n",
       "      <th>id</th>\n",
       "      <th>contexts</th>\n",
       "      <th>question</th>\n",
       "      <th>ground_truth</th>\n",
       "      <th>label</th>\n",
       "      <th>source_ds</th>\n",
       "      <th>answer</th>\n",
       "    </tr>\n",
       "  </thead>\n",
       "  <tbody>\n",
       "    <tr>\n",
       "      <th>0</th>\n",
       "      <td>0</td>\n",
       "      <td>d3fb4c3c-d21b-480a-baa0-98d6d0d17c1d</td>\n",
       "      <td>[Hoping to rebound from the road loss to the C...</td>\n",
       "      <td>Which team scored the longest field goal kick ...</td>\n",
       "      <td>['Rams', 'second', 'Marc Bulger', 'Kevin Curtis']</td>\n",
       "      <td>FAIL</td>\n",
       "      <td>DROP</td>\n",
       "      <td>The team that kicked the longest field goal i...</td>\n",
       "    </tr>\n",
       "    <tr>\n",
       "      <th>1</th>\n",
       "      <td>1</td>\n",
       "      <td>8603663e-c53b-46db-a482-a867f12ff3b4</td>\n",
       "      <td>[As of the census of 2000, there were 218,590 ...</td>\n",
       "      <td>How many percent were not  Irish?</td>\n",
       "      <td>87.1</td>\n",
       "      <td>FAIL</td>\n",
       "      <td>DROP</td>\n",
       "      <td>77.5% were not Irish (100% - 22.5%, which is t...</td>\n",
       "    </tr>\n",
       "    <tr>\n",
       "      <th>2</th>\n",
       "      <td>2</td>\n",
       "      <td>c63a73e5-2c91-489b-bd24-af150ddfa82c</td>\n",
       "      <td>[Hoping to rebound from the road loss to the C...</td>\n",
       "      <td>How many yards was the second longest field go...</td>\n",
       "      <td>42</td>\n",
       "      <td>FAIL</td>\n",
       "      <td>DROP</td>\n",
       "      <td>41 yards (Jeff Wilkins made a 41-yard field goal)</td>\n",
       "    </tr>\n",
       "    <tr>\n",
       "      <th>3</th>\n",
       "      <td>3</td>\n",
       "      <td>52db14ed-5426-46ec-b0ae-4ef843b2d692</td>\n",
       "      <td>[Hoping to rebound from their tough overtime r...</td>\n",
       "      <td>How long was the last touchdown?</td>\n",
       "      <td>18-yard</td>\n",
       "      <td>FAIL</td>\n",
       "      <td>DROP</td>\n",
       "      <td>15 yards</td>\n",
       "    </tr>\n",
       "    <tr>\n",
       "      <th>4</th>\n",
       "      <td>4</td>\n",
       "      <td>31b36417-aad1-412c-b0e5-9c1faaed233f</td>\n",
       "      <td>[As of the census of 2000, there were 218,590 ...</td>\n",
       "      <td>How many in percent from the census weren't Ir...</td>\n",
       "      <td>87.1</td>\n",
       "      <td>FAIL</td>\n",
       "      <td>DROP</td>\n",
       "      <td>77.5% of the population were not Irish (100% -...</td>\n",
       "    </tr>\n",
       "  </tbody>\n",
       "</table>\n",
       "</div>"
      ],
      "text/plain": [
       "   Unnamed: 0                                    id  \\\n",
       "0           0  d3fb4c3c-d21b-480a-baa0-98d6d0d17c1d   \n",
       "1           1  8603663e-c53b-46db-a482-a867f12ff3b4   \n",
       "2           2  c63a73e5-2c91-489b-bd24-af150ddfa82c   \n",
       "3           3  52db14ed-5426-46ec-b0ae-4ef843b2d692   \n",
       "4           4  31b36417-aad1-412c-b0e5-9c1faaed233f   \n",
       "\n",
       "                                            contexts  \\\n",
       "0  [Hoping to rebound from the road loss to the C...   \n",
       "1  [As of the census of 2000, there were 218,590 ...   \n",
       "2  [Hoping to rebound from the road loss to the C...   \n",
       "3  [Hoping to rebound from their tough overtime r...   \n",
       "4  [As of the census of 2000, there were 218,590 ...   \n",
       "\n",
       "                                            question  \\\n",
       "0  Which team scored the longest field goal kick ...   \n",
       "1                  How many percent were not  Irish?   \n",
       "2  How many yards was the second longest field go...   \n",
       "3                   How long was the last touchdown?   \n",
       "4  How many in percent from the census weren't Ir...   \n",
       "\n",
       "                                        ground_truth label source_ds  \\\n",
       "0  ['Rams', 'second', 'Marc Bulger', 'Kevin Curtis']  FAIL      DROP   \n",
       "1                                               87.1  FAIL      DROP   \n",
       "2                                                 42  FAIL      DROP   \n",
       "3                                            18-yard  FAIL      DROP   \n",
       "4                                               87.1  FAIL      DROP   \n",
       "\n",
       "                                              answer  \n",
       "0   The team that kicked the longest field goal i...  \n",
       "1  77.5% were not Irish (100% - 22.5%, which is t...  \n",
       "2  41 yards (Jeff Wilkins made a 41-yard field goal)  \n",
       "3                                           15 yards  \n",
       "4  77.5% of the population were not Irish (100% -...  "
      ]
     },
     "execution_count": 22,
     "metadata": {},
     "output_type": "execute_result"
    }
   ],
   "source": [
    "df.head()"
   ]
  }
 ],
 "metadata": {
  "kernelspec": {
   "display_name": "Python 3",
   "language": "python",
   "name": "python3"
  },
  "language_info": {
   "codemirror_mode": {
    "name": "ipython",
    "version": 3
   },
   "file_extension": ".py",
   "mimetype": "text/x-python",
   "name": "python",
   "nbconvert_exporter": "python",
   "pygments_lexer": "ipython3",
   "version": "3.12.2"
  }
 },
 "nbformat": 4,
 "nbformat_minor": 2
}
